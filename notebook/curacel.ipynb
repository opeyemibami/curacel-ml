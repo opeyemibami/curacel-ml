{
  "nbformat": 4,
  "nbformat_minor": 0,
  "metadata": {
    "kernelspec": {
      "name": "python3",
      "display_name": "Python 3"
    },
    "language_info": {
      "codemirror_mode": {
        "name": "ipython",
        "version": 3
      },
      "file_extension": ".py",
      "mimetype": "text/x-python",
      "name": "python",
      "nbconvert_exporter": "python",
      "pygments_lexer": "ipython3",
      "version": "3.6.8"
    },
    "colab": {
      "name": "curacel",
      "provenance": []
    },
    "accelerator": "TPU"
  },
  "cells": [
    {
      "cell_type": "code",
      "metadata": {
        "id": "nBiVwHtWCzja"
      },
      "source": [
        ""
      ],
      "execution_count": null,
      "outputs": []
    },
    {
      "cell_type": "code",
      "metadata": {
        "id": "_1M1c9LN4nmB",
        "colab": {
          "base_uri": "https://localhost:8080/"
        },
        "outputId": "a0a2f26a-b96d-42a2-8c75-3200a4326edd"
      },
      "source": [
        "from google.colab import drive\n",
        "drive.mount('/content/drive')"
      ],
      "execution_count": 40,
      "outputs": [
        {
          "output_type": "stream",
          "name": "stdout",
          "text": [
            "Drive already mounted at /content/drive; to attempt to forcibly remount, call drive.mount(\"/content/drive\", force_remount=True).\n"
          ]
        }
      ]
    },
    {
      "cell_type": "code",
      "metadata": {
        "id": "k6AkTsBTcSGX",
        "colab": {
          "base_uri": "https://localhost:8080/"
        },
        "outputId": "438f2611-6c11-4f37-df79-95fc78ed5b3c"
      },
      "source": [
        "from __future__ import print_function\n",
        "import keras\n",
        "from keras.preprocessing.image import ImageDataGenerator\n",
        "from keras.models import Sequential\n",
        "from keras.layers import Dense, Dropout, Activation, Flatten, BatchNormalization\n",
        "from keras.layers import Conv2D, MaxPooling2D\n",
        "from keras.layers.advanced_activations import ELU\n",
        "from keras.preprocessing.image import ImageDataGenerator\n",
        "import os\n",
        "print('we are ready boss !!!')"
      ],
      "execution_count": 41,
      "outputs": [
        {
          "output_type": "stream",
          "name": "stdout",
          "text": [
            "we are ready boss !!!\n"
          ]
        }
      ]
    },
    {
      "cell_type": "code",
      "metadata": {
        "id": "M5oxoyLO--h4"
      },
      "source": [
        ""
      ],
      "execution_count": 41,
      "outputs": []
    },
    {
      "cell_type": "code",
      "metadata": {
        "id": "ZfVOGcZg-_WO",
        "colab": {
          "base_uri": "https://localhost:8080/"
        },
        "outputId": "ccccfd7c-bfae-4e50-a1fb-a9f32053298d"
      },
      "source": [
        "import tensorflow as tf\n",
        "tf.version"
      ],
      "execution_count": 42,
      "outputs": [
        {
          "output_type": "execute_result",
          "data": {
            "text/plain": [
              "<module 'tensorflow._api.v2.version' from '/usr/local/lib/python3.7/dist-packages/tensorflow/_api/v2/version/__init__.py'>"
            ]
          },
          "metadata": {},
          "execution_count": 42
        }
      ]
    },
    {
      "cell_type": "markdown",
      "metadata": {
        "id": "ZPRAyZmwAZhD"
      },
      "source": [
        "from __future__ import print_function\n",
        "#import keras\n",
        "from tensorflow.keras.preprocessing.image import ImageDataGenerator\n",
        "from tensorflow.keras.models import Sequential\n",
        "from tensorflow.keras.layers import Dense, Dropout, Activation, Flatten, BatchNormalization\n",
        "from tensorflow.keras.layers import Conv2D, MaxPooling2D\n",
        "#from tensorflow.keras.layers.advanced_activations import ELU\n",
        "from tensorflow.keras.preprocessing.image import ImageDataGenerator\n",
        "import os\n",
        "print('All imported !!!')"
      ]
    },
    {
      "cell_type": "markdown",
      "metadata": {
        "id": "6fuFLweFcSGk"
      },
      "source": [
        "# Images explorations "
      ]
    },
    {
      "cell_type": "code",
      "metadata": {
        "id": "NnDwL_pOcSGm",
        "colab": {
          "base_uri": "https://localhost:8080/"
        },
        "outputId": "e6fd4d30-9755-477f-ee42-44ea67619b87"
      },
      "source": [
        "# Get filenames in list\n",
        "from os import listdir\n",
        "from os.path import isfile, join\n",
        "import numpy as np\n",
        "import cv2\n",
        "mypath = '/content/drive/MyDrive/Colab Notebooks/Recruitment Data'\n",
        "classes = listdir(mypath) #each classes in the training dataset\n",
        "classes"
      ],
      "execution_count": 43,
      "outputs": [
        {
          "output_type": "execute_result",
          "data": {
            "text/plain": [
              "['Non Defective Boxes', 'Defective Boxes', 'model.h5']"
            ]
          },
          "metadata": {},
          "execution_count": 43
        }
      ]
    },
    {
      "cell_type": "code",
      "metadata": {
        "id": "yR7BzOV7cSGs",
        "colab": {
          "base_uri": "https://localhost:8080/"
        },
        "outputId": "b9fcee3c-565b-46a4-d37a-9274dd1eca86"
      },
      "source": [
        "train_class0 = [f for f in listdir(join(mypath,classes[0])) if isfile(join(mypath,classes[0],f))]\n",
        "train_class1 = [f for f in listdir(join(mypath,classes[1])) if isfile(join(mypath,classes[1],f))]\n",
        "classes_list = [train_class0,train_class1]\n",
        "for i,k in enumerate(classes_list):\n",
        "    print(str(len(k)) + ' images loaded from class ' + str(i) + ' = '+classes[i])\n",
        "    #converting each classes into an array \n",
        "    classes_list[i] = np.array(classes_list[i])"
      ],
      "execution_count": 44,
      "outputs": [
        {
          "output_type": "stream",
          "name": "stdout",
          "text": [
            "1680 images loaded from class 0 = Non Defective Boxes\n",
            "468 images loaded from class 1 = Defective Boxes\n"
          ]
        }
      ]
    },
    {
      "cell_type": "code",
      "metadata": {
        "id": "3DeZ8WRpcSGw",
        "colab": {
          "base_uri": "https://localhost:8080/",
          "height": 378
        },
        "outputId": "e9f2f2b5-ece8-474a-827b-2fa87ba010ef"
      },
      "source": [
        "# load and display an image with Matplotlib\n",
        "import matplotlib.pyplot as plt\n",
        "from matplotlib import image\n",
        "images_list = []\n",
        "count = 0\n",
        "for i in range(1,37):\n",
        "    random_num = np.random.randint(0, len(classes_list[count]))\n",
        "    images_list.append(image.imread(join(mypath,classes[count],classes_list[count][random_num]))) # load image as pixel array\n",
        "    count +=1\n",
        "    if (count==len(classes_list)):\n",
        "        count = 0 \n",
        "        \n",
        "\n",
        "print(f'image shape : {images_list[0].shape}')\n",
        "\n",
        "plt.figure(figsize=(20,10))\n",
        "columns = 6\n",
        "for i, img in enumerate(images_list):\n",
        "    if (i<columns):#simply applying title to each column\n",
        "        title = classes[i]\n",
        "        plt.subplot(len(images_list) / columns , columns, i + 1,title =title)\n",
        "        plt.imshow(img,cmap='gray')\n",
        "    else: #without title\n",
        "        plt.subplot(len(images_list) / columns , columns, i + 1)\n",
        "        plt.imshow(img,cmap='gray')"
      ],
      "execution_count": 45,
      "outputs": [
        {
          "output_type": "stream",
          "name": "stdout",
          "text": [
            "image shape : (280, 393, 3)\n"
          ]
        },
        {
          "output_type": "error",
          "ename": "IndexError",
          "evalue": "ignored",
          "traceback": [
            "\u001b[0;31m---------------------------------------------------------------------------\u001b[0m",
            "\u001b[0;31mIndexError\u001b[0m                                Traceback (most recent call last)",
            "\u001b[0;32m<ipython-input-45-e1aea69a9f30>\u001b[0m in \u001b[0;36m<module>\u001b[0;34m()\u001b[0m\n\u001b[1;32m     18\u001b[0m \u001b[0;32mfor\u001b[0m \u001b[0mi\u001b[0m\u001b[0;34m,\u001b[0m \u001b[0mimg\u001b[0m \u001b[0;32min\u001b[0m \u001b[0menumerate\u001b[0m\u001b[0;34m(\u001b[0m\u001b[0mimages_list\u001b[0m\u001b[0;34m)\u001b[0m\u001b[0;34m:\u001b[0m\u001b[0;34m\u001b[0m\u001b[0;34m\u001b[0m\u001b[0m\n\u001b[1;32m     19\u001b[0m     \u001b[0;32mif\u001b[0m \u001b[0;34m(\u001b[0m\u001b[0mi\u001b[0m\u001b[0;34m<\u001b[0m\u001b[0mcolumns\u001b[0m\u001b[0;34m)\u001b[0m\u001b[0;34m:\u001b[0m\u001b[0;31m#simply applying title to each column\u001b[0m\u001b[0;34m\u001b[0m\u001b[0;34m\u001b[0m\u001b[0m\n\u001b[0;32m---> 20\u001b[0;31m         \u001b[0mtitle\u001b[0m \u001b[0;34m=\u001b[0m \u001b[0mclasses\u001b[0m\u001b[0;34m[\u001b[0m\u001b[0mi\u001b[0m\u001b[0;34m]\u001b[0m\u001b[0;34m\u001b[0m\u001b[0;34m\u001b[0m\u001b[0m\n\u001b[0m\u001b[1;32m     21\u001b[0m         \u001b[0mplt\u001b[0m\u001b[0;34m.\u001b[0m\u001b[0msubplot\u001b[0m\u001b[0;34m(\u001b[0m\u001b[0mlen\u001b[0m\u001b[0;34m(\u001b[0m\u001b[0mimages_list\u001b[0m\u001b[0;34m)\u001b[0m \u001b[0;34m/\u001b[0m \u001b[0mcolumns\u001b[0m \u001b[0;34m,\u001b[0m \u001b[0mcolumns\u001b[0m\u001b[0;34m,\u001b[0m \u001b[0mi\u001b[0m \u001b[0;34m+\u001b[0m \u001b[0;36m1\u001b[0m\u001b[0;34m,\u001b[0m\u001b[0mtitle\u001b[0m \u001b[0;34m=\u001b[0m\u001b[0mtitle\u001b[0m\u001b[0;34m)\u001b[0m\u001b[0;34m\u001b[0m\u001b[0;34m\u001b[0m\u001b[0m\n\u001b[1;32m     22\u001b[0m         \u001b[0mplt\u001b[0m\u001b[0;34m.\u001b[0m\u001b[0mimshow\u001b[0m\u001b[0;34m(\u001b[0m\u001b[0mimg\u001b[0m\u001b[0;34m,\u001b[0m\u001b[0mcmap\u001b[0m\u001b[0;34m=\u001b[0m\u001b[0;34m'gray'\u001b[0m\u001b[0;34m)\u001b[0m\u001b[0;34m\u001b[0m\u001b[0;34m\u001b[0m\u001b[0m\n",
            "\u001b[0;31mIndexError\u001b[0m: list index out of range"
          ]
        },
        {
          "output_type": "display_data",
          "data": {
            "image/png": "[encoded data removed]",
            "text/plain": [
              "<Figure size 1440x720 with 3 Axes>"
            ]
          },
          "metadata": {
            "needs_background": "light"
          }
        }
      ]
    },
    {
      "cell_type": "markdown",
      "metadata": {
        "id": "Yqnz5VpLcSG3"
      },
      "source": [
        "# Data augmentation to avoid overfitting "
      ]
    },
    {
      "cell_type": "code",
      "metadata": {
        "id": "hq4JfpQV8PFH"
      },
      "source": [
        "import keras\n",
        " "
      ],
      "execution_count": 46,
      "outputs": []
    },
    {
      "cell_type": "code",
      "metadata": {
        "colab": {
          "base_uri": "https://localhost:8080/",
          "height": 35
        },
        "id": "4H1xbXX1smkc",
        "outputId": "8d858b4d-b7bc-4f62-db05-1e8e03a05e0b"
      },
      "source": [
        "keras.__version__"
      ],
      "execution_count": 47,
      "outputs": [
        {
          "output_type": "execute_result",
          "data": {
            "application/vnd.google.colaboratory.intrinsic+json": {
              "type": "string"
            },
            "text/plain": [
              "'2.7.0'"
            ]
          },
          "metadata": {},
          "execution_count": 47
        }
      ]
    },
    {
      "cell_type": "code",
      "metadata": {
        "id": "biGyXilXcSG4",
        "colab": {
          "base_uri": "https://localhost:8080/"
        },
        "outputId": "91f8351e-f418-4499-8d47-d2c3e755f045"
      },
      "source": [
        "num_classes = 2\n",
        "img_rows, img_cols = 224, 224\n",
        "batch_size = 16\n",
        "\n",
        "\n",
        "#instance of the ImageDataGenerator for the train with instatiated parameters \n",
        "train_datagen = keras.preprocessing.image.ImageDataGenerator(\n",
        "      rescale=1./255,\n",
        "      rotation_range=30,\n",
        "      shear_range=0.3,\n",
        "      zoom_range=0.3,\n",
        "      width_shift_range=0.4,\n",
        "      height_shift_range=0.4,\n",
        "      horizontal_flip=True,\n",
        "      fill_mode='nearest',\n",
        "      validation_split=0.25)\n",
        "\n",
        "#instance of the ImageDataGenerator for the Validation with instatiated parameters  \n",
        "validation_datagen = keras.preprocessing.image.ImageDataGenerator(rescale=1./255)\n",
        "\n",
        "#the main generator \n",
        "train_generator = train_datagen.flow_from_directory(\n",
        "        mypath,\n",
        "        color_mode = 'grayscale',\n",
        "        target_size=(img_rows, img_cols),\n",
        "        batch_size=batch_size,\n",
        "        class_mode='binary',\n",
        "        subset='training')\n",
        "#the main generator\n",
        "validation_generator = train_datagen.flow_from_directory(\n",
        "        mypath,\n",
        "        color_mode = 'grayscale',\n",
        "        target_size=(img_rows, img_cols),\n",
        "        batch_size=batch_size,\n",
        "        class_mode='binary',\n",
        "        subset='validation')"
      ],
      "execution_count": 48,
      "outputs": [
        {
          "output_type": "stream",
          "name": "stdout",
          "text": [
            "Found 1611 images belonging to 2 classes.\n",
            "Found 537 images belonging to 2 classes.\n"
          ]
        }
      ]
    },
    {
      "cell_type": "markdown",
      "metadata": {
        "id": "ljdgMN4tcSG9"
      },
      "source": [
        "# Model architecture"
      ]
    },
    {
      "cell_type": "code",
      "metadata": {
        "id": "RmF4lhwGtiAl"
      },
      "source": [
        "from keras.layers import Conv2D"
      ],
      "execution_count": 49,
      "outputs": []
    },
    {
      "cell_type": "code",
      "metadata": {
        "id": "yFzXqaIycSG-",
        "colab": {
          "base_uri": "https://localhost:8080/"
        },
        "outputId": "7123d348-9b4e-488c-f6b9-42e5bbbb6f86"
      },
      "source": [
        "model = Sequential()\n",
        "\n",
        "#block 1: first Convolution => ELU =>Convolution => ELU => POOL\n",
        "# layer set\n",
        "# model.add(Conv2D(16, (3, 3), padding = 'same', kernel_initializer=\"he_normal\",\n",
        "#                  input_shape = (img_rows, img_cols, 1)))\n",
        "# model.add(Activation('elu'))\n",
        "# model.add(BatchNormalization())\n",
        "# model.add(Conv2D(16, (3, 3), padding = \"same\", kernel_initializer=\"he_normal\", \n",
        "#                  input_shape = (img_rows, img_cols, 1)))\n",
        "# model.add(Activation('elu'))\n",
        "# model.add(BatchNormalization())\n",
        "# model.add(MaxPooling2D(pool_size=(2, 2)))\n",
        "# model.add(Dropout(0.2))\n",
        "\n",
        "\n",
        "\n",
        "#block 1: first Convolution => ELU =>Convolution => ELU => POOL\n",
        "# layer set\n",
        "model.add(Conv2D(32, (3, 3), padding = 'same', kernel_initializer=\"he_normal\",\n",
        "                 input_shape = (img_rows, img_cols, 1)))\n",
        "model.add(Activation('elu'))\n",
        "model.add(BatchNormalization())\n",
        "model.add(Conv2D(32, (3, 3), padding = \"same\", kernel_initializer=\"he_normal\", \n",
        "                 input_shape = (img_rows, img_cols, 1)))\n",
        "model.add(Activation('elu'))\n",
        "model.add(BatchNormalization())\n",
        "model.add(MaxPooling2D(pool_size=(2, 2)))\n",
        "model.add(Dropout(0.2))\n",
        "\n",
        "# Block #2: second Convolution => ELU => CONV => ELU => POOL\n",
        "# layer set\n",
        "model.add(Conv2D(64, (3, 3), padding=\"same\", kernel_initializer=\"he_normal\"))\n",
        "model.add(Activation('elu'))\n",
        "model.add(BatchNormalization())\n",
        "model.add(Conv2D(64, (3, 3), padding=\"same\", kernel_initializer=\"he_normal\"))\n",
        "model.add(Activation('elu'))\n",
        "model.add(BatchNormalization())\n",
        "model.add(MaxPooling2D(pool_size=(2, 2)))\n",
        "model.add(Dropout(0.2))\n",
        "\n",
        "# Block #3: third  Convolution => ELU => CONV => ELU => POOL\n",
        "# layer set\n",
        "model.add(Conv2D(128, (3, 3), padding=\"same\", kernel_initializer=\"he_normal\"))\n",
        "model.add(Activation('elu'))\n",
        "model.add(BatchNormalization())\n",
        "model.add(Conv2D(128, (3, 3), padding=\"same\", kernel_initializer=\"he_normal\"))\n",
        "model.add(Activation('elu'))\n",
        "model.add(BatchNormalization())\n",
        "model.add(MaxPooling2D(pool_size=(2, 2)))\n",
        "model.add(Dropout(0.2))\n",
        "\n",
        "\n",
        "# Block #4: fourth  Convolution => ELU => CONV => ELU => POOL\n",
        "# layer set\n",
        "# model.add(Conv2D(256, (3, 3), padding=\"same\", kernel_initializer=\"he_normal\"))\n",
        "# model.add(Activation('elu'))\n",
        "# model.add(BatchNormalization())\n",
        "# model.add(Conv2D(256, (3, 3), padding=\"same\", kernel_initializer=\"he_normal\"))\n",
        "# model.add(Activation('elu'))\n",
        "# model.add(BatchNormalization())\n",
        "# model.add(MaxPooling2D(pool_size=(2, 2)))\n",
        "# model.add(Dropout(0.2))\n",
        "\n",
        "# # Block #4: fourth  Convolution => ELU => CONV => ELU => POOL\n",
        "# # layer set\n",
        "# model.add(Conv2D(512, (3, 3), padding=\"same\", kernel_initializer=\"he_normal\"))\n",
        "# model.add(Activation('elu'))\n",
        "# model.add(BatchNormalization())\n",
        "# model.add(Conv2D(512, (3, 3), padding=\"same\", kernel_initializer=\"he_normal\"))\n",
        "# model.add(Activation('elu'))\n",
        "# model.add(BatchNormalization())\n",
        "# model.add(MaxPooling2D(pool_size=(2, 2)))\n",
        "# model.add(Dropout(0.2))\n",
        "\n",
        "\n",
        "# Block #5: first set of FC => RELU layers\n",
        "model.add(Flatten())\n",
        "model.add(Dense(64, kernel_initializer=\"he_normal\"))\n",
        "model.add(Activation('elu'))\n",
        "model.add(BatchNormalization())\n",
        "model.add(Dropout(0.5))\n",
        "\n",
        "# # Block #6: second set of FC => RELU layers\n",
        "# model.add(Dense(64, kernel_initializer=\"he_normal\"))\n",
        "# model.add(Activation('elu'))\n",
        "# model.add(BatchNormalization())\n",
        "# model.add(Dropout(0.5))\n",
        "\n",
        "# Block #6: second set of FC => RELU layers\n",
        "model.add(Dense(64, kernel_initializer=\"he_normal\"))\n",
        "model.add(Activation('elu'))\n",
        "model.add(BatchNormalization())\n",
        "model.add(Dropout(0.5))\n",
        "\n",
        "# Block #6: second set of FC => RELU layers\n",
        "model.add(Dense(32, kernel_initializer=\"he_normal\"))\n",
        "model.add(Activation('elu'))\n",
        "model.add(BatchNormalization())\n",
        "model.add(Dropout(0.5))\n",
        "\n",
        "\n",
        "\n",
        "# Block #7: softmax classifier\n",
        "model.add(Dense(1, kernel_initializer=\"he_normal\"))\n",
        "model.add(Activation(\"sigmoid\"))\n",
        "\n",
        "print(model.summary())"
      ],
      "execution_count": 50,
      "outputs": [
        {
          "output_type": "stream",
          "name": "stdout",
          "text": [
            "Model: \"sequential_1\"\n",
            "_________________________________________________________________\n",
            " Layer (type)                Output Shape              Param #   \n",
            "=================================================================\n",
            " conv2d_6 (Conv2D)           (None, 224, 224, 32)      320       \n",
            "                                                                 \n",
            " activation_10 (Activation)  (None, 224, 224, 32)      0         \n",
            "                                                                 \n",
            " batch_normalization_9 (Batc  (None, 224, 224, 32)     128       \n",
            " hNormalization)                                                 \n",
            "                                                                 \n",
            " conv2d_7 (Conv2D)           (None, 224, 224, 32)      9248      \n",
            "                                                                 \n",
            " activation_11 (Activation)  (None, 224, 224, 32)      0         \n",
            "                                                                 \n",
            " batch_normalization_10 (Bat  (None, 224, 224, 32)     128       \n",
            " chNormalization)                                                \n",
            "                                                                 \n",
            " max_pooling2d_3 (MaxPooling  (None, 112, 112, 32)     0         \n",
            " 2D)                                                             \n",
            "                                                                 \n",
            " dropout_6 (Dropout)         (None, 112, 112, 32)      0         \n",
            "                                                                 \n",
            " conv2d_8 (Conv2D)           (None, 112, 112, 64)      18496     \n",
            "                                                                 \n",
            " activation_12 (Activation)  (None, 112, 112, 64)      0         \n",
            "                                                                 \n",
            " batch_normalization_11 (Bat  (None, 112, 112, 64)     256       \n",
            " chNormalization)                                                \n",
            "                                                                 \n",
            " conv2d_9 (Conv2D)           (None, 112, 112, 64)      36928     \n",
            "                                                                 \n",
            " activation_13 (Activation)  (None, 112, 112, 64)      0         \n",
            "                                                                 \n",
            " batch_normalization_12 (Bat  (None, 112, 112, 64)     256       \n",
            " chNormalization)                                                \n",
            "                                                                 \n",
            " max_pooling2d_4 (MaxPooling  (None, 56, 56, 64)       0         \n",
            " 2D)                                                             \n",
            "                                                                 \n",
            " dropout_7 (Dropout)         (None, 56, 56, 64)        0         \n",
            "                                                                 \n",
            " conv2d_10 (Conv2D)          (None, 56, 56, 128)       73856     \n",
            "                                                                 \n",
            " activation_14 (Activation)  (None, 56, 56, 128)       0         \n",
            "                                                                 \n",
            " batch_normalization_13 (Bat  (None, 56, 56, 128)      512       \n",
            " chNormalization)                                                \n",
            "                                                                 \n",
            " conv2d_11 (Conv2D)          (None, 56, 56, 128)       147584    \n",
            "                                                                 \n",
            " activation_15 (Activation)  (None, 56, 56, 128)       0         \n",
            "                                                                 \n",
            " batch_normalization_14 (Bat  (None, 56, 56, 128)      512       \n",
            " chNormalization)                                                \n",
            "                                                                 \n",
            " max_pooling2d_5 (MaxPooling  (None, 28, 28, 128)      0         \n",
            " 2D)                                                             \n",
            "                                                                 \n",
            " dropout_8 (Dropout)         (None, 28, 28, 128)       0         \n",
            "                                                                 \n",
            " flatten_1 (Flatten)         (None, 100352)            0         \n",
            "                                                                 \n",
            " dense_8 (Dense)             (None, 64)                6422592   \n",
            "                                                                 \n",
            " activation_16 (Activation)  (None, 64)                0         \n",
            "                                                                 \n",
            " batch_normalization_15 (Bat  (None, 64)               256       \n",
            " chNormalization)                                                \n",
            "                                                                 \n",
            " dropout_9 (Dropout)         (None, 64)                0         \n",
            "                                                                 \n",
            " dense_9 (Dense)             (None, 64)                4160      \n",
            "                                                                 \n",
            " activation_17 (Activation)  (None, 64)                0         \n",
            "                                                                 \n",
            " batch_normalization_16 (Bat  (None, 64)               256       \n",
            " chNormalization)                                                \n",
            "                                                                 \n",
            " dropout_10 (Dropout)        (None, 64)                0         \n",
            "                                                                 \n",
            " dense_10 (Dense)            (None, 32)                2080      \n",
            "                                                                 \n",
            " activation_18 (Activation)  (None, 32)                0         \n",
            "                                                                 \n",
            " batch_normalization_17 (Bat  (None, 32)               128       \n",
            " chNormalization)                                                \n",
            "                                                                 \n",
            " dropout_11 (Dropout)        (None, 32)                0         \n",
            "                                                                 \n",
            " dense_11 (Dense)            (None, 1)                 33        \n",
            "                                                                 \n",
            " activation_19 (Activation)  (None, 1)                 0         \n",
            "                                                                 \n",
            "=================================================================\n",
            "Total params: 6,717,729\n",
            "Trainable params: 6,716,513\n",
            "Non-trainable params: 1,216\n",
            "_________________________________________________________________\n",
            "None\n"
          ]
        }
      ]
    },
    {
      "cell_type": "markdown",
      "metadata": {
        "id": "OrM5BbF9cSHK"
      },
      "source": [
        "# Training Model"
      ]
    },
    {
      "cell_type": "code",
      "metadata": {
        "id": "tTOttynyuZWn"
      },
      "source": [
        ""
      ],
      "execution_count": 50,
      "outputs": []
    },
    {
      "cell_type": "code",
      "metadata": {
        "id": "qCOkN8Juu148"
      },
      "source": [
        "# Adam RMSprop, SGD,"
      ],
      "execution_count": 51,
      "outputs": []
    },
    {
      "cell_type": "code",
      "metadata": {
        "id": "adc7jT-pcSHL",
        "colab": {
          "base_uri": "https://localhost:8080/"
        },
        "outputId": "58ebc721-025b-40a3-ddb4-750aead60540"
      },
      "source": [
        "from tensorflow.keras.optimizers import Adam\n",
        "from keras.callbacks import ModelCheckpoint, EarlyStopping, ReduceLROnPlateau\n",
        "\n",
        "saved_model_path =  mypath + '/model.h5'                 \n",
        "checkpoint = ModelCheckpoint(saved_model_path ,\n",
        "                             monitor=\"val_loss\",\n",
        "                             mode=\"min\",\n",
        "                             save_best_only = True,\n",
        "                             verbose=1)\n",
        "\n",
        "earlystop = EarlyStopping(monitor = 'val_loss', \n",
        "                          min_delta = 0, \n",
        "                          patience = 3,\n",
        "                          verbose = 1,\n",
        "                          restore_best_weights = True)\n",
        "\n",
        "reduce_lr = ReduceLROnPlateau(monitor = 'val_loss', factor = 0.2, patience = 3, verbose = 1, min_delta = 0.0001)\n",
        "\n",
        "# we put our call backs into a callback list\n",
        "callbacks = [earlystop, checkpoint, reduce_lr]\n",
        "\n",
        "# We use a very small learning rate \n",
        "model.compile(loss = 'binary_crossentropy',\n",
        "              optimizer = Adam(lr=0.001),\n",
        "              metrics = ['accuracy'])\n",
        "\n",
        "nb_train_samples = 1611\n",
        "nb_validation_samples = 537\n",
        "epochs = 25\n",
        "\n",
        "history = model.fit_generator(\n",
        "    train_generator,\n",
        "    steps_per_epoch = nb_train_samples // batch_size,\n",
        "    epochs = epochs,\n",
        "    callbacks = callbacks,\n",
        "    validation_data = validation_generator,\n",
        "    validation_steps = nb_validation_samples // batch_size)"
      ],
      "execution_count": 52,
      "outputs": [
        {
          "output_type": "stream",
          "name": "stderr",
          "text": [
            "/usr/local/lib/python3.7/dist-packages/keras/optimizer_v2/adam.py:105: UserWarning: The `lr` argument is deprecated, use `learning_rate` instead.\n",
            "  super(Adam, self).__init__(name, **kwargs)\n",
            "/usr/local/lib/python3.7/dist-packages/ipykernel_launcher.py:37: UserWarning: `Model.fit_generator` is deprecated and will be removed in a future version. Please use `Model.fit`, which supports generators.\n"
          ]
        },
        {
          "output_type": "stream",
          "name": "stdout",
          "text": [
            "Epoch 1/25\n",
            "100/100 [==============================] - ETA: 0s - loss: 0.8603 - accuracy: 0.5850\n",
            "Epoch 00001: val_loss improved from inf to 0.76079, saving model to /content/drive/MyDrive/Colab Notebooks/Recruitment Data/model.h5\n",
            "100/100 [==============================] - 680s 7s/step - loss: 0.8603 - accuracy: 0.5850 - val_loss: 0.7608 - val_accuracy: 0.7936 - lr: 0.0010\n",
            "Epoch 2/25\n",
            "100/100 [==============================] - ETA: 0s - loss: 0.7133 - accuracy: 0.6520\n",
            "Epoch 00002: val_loss improved from 0.76079 to 0.47554, saving model to /content/drive/MyDrive/Colab Notebooks/Recruitment Data/model.h5\n",
            "100/100 [==============================] - 677s 7s/step - loss: 0.7133 - accuracy: 0.6520 - val_loss: 0.4755 - val_accuracy: 0.8144 - lr: 0.0010\n",
            "Epoch 3/25\n",
            "100/100 [==============================] - ETA: 0s - loss: 0.6646 - accuracy: 0.6928\n",
            "Epoch 00003: val_loss improved from 0.47554 to 0.43880, saving model to /content/drive/MyDrive/Colab Notebooks/Recruitment Data/model.h5\n",
            "100/100 [==============================] - 676s 7s/step - loss: 0.6646 - accuracy: 0.6928 - val_loss: 0.4388 - val_accuracy: 0.8201 - lr: 0.0010\n",
            "Epoch 4/25\n",
            "100/100 [==============================] - ETA: 0s - loss: 0.5931 - accuracy: 0.7348\n",
            "Epoch 00004: val_loss improved from 0.43880 to 0.43434, saving model to /content/drive/MyDrive/Colab Notebooks/Recruitment Data/model.h5\n",
            "100/100 [==============================] - 677s 7s/step - loss: 0.5931 - accuracy: 0.7348 - val_loss: 0.4343 - val_accuracy: 0.8239 - lr: 0.0010\n",
            "Epoch 5/25\n",
            "100/100 [==============================] - ETA: 0s - loss: 0.5609 - accuracy: 0.7423\n",
            "Epoch 00005: val_loss improved from 0.43434 to 0.42526, saving model to /content/drive/MyDrive/Colab Notebooks/Recruitment Data/model.h5\n",
            "100/100 [==============================] - 676s 7s/step - loss: 0.5609 - accuracy: 0.7423 - val_loss: 0.4253 - val_accuracy: 0.7992 - lr: 0.0010\n",
            "Epoch 6/25\n",
            "100/100 [==============================] - ETA: 0s - loss: 0.5660 - accuracy: 0.7417\n",
            "Epoch 00006: val_loss did not improve from 0.42526\n",
            "100/100 [==============================] - 676s 7s/step - loss: 0.5660 - accuracy: 0.7417 - val_loss: 0.4386 - val_accuracy: 0.8277 - lr: 0.0010\n",
            "Epoch 7/25\n",
            "100/100 [==============================] - ETA: 0s - loss: 0.5299 - accuracy: 0.7643\n",
            "Epoch 00007: val_loss did not improve from 0.42526\n",
            "100/100 [==============================] - 678s 7s/step - loss: 0.5299 - accuracy: 0.7643 - val_loss: 0.4265 - val_accuracy: 0.8030 - lr: 0.0010\n",
            "Epoch 8/25\n",
            "100/100 [==============================] - ETA: 0s - loss: 0.5331 - accuracy: 0.7611Restoring model weights from the end of the best epoch: 5.\n",
            "\n",
            "Epoch 00008: val_loss did not improve from 0.42526\n",
            "\n",
            "Epoch 00008: ReduceLROnPlateau reducing learning rate to 0.00020000000949949026.\n",
            "100/100 [==============================] - 674s 7s/step - loss: 0.5331 - accuracy: 0.7611 - val_loss: 0.4294 - val_accuracy: 0.7803 - lr: 0.0010\n",
            "Epoch 00008: early stopping\n"
          ]
        }
      ]
    },
    {
      "cell_type": "code",
      "metadata": {
        "id": "ubErMQC5cSHQ"
      },
      "source": [
        ""
      ],
      "execution_count": null,
      "outputs": []
    },
    {
      "cell_type": "markdown",
      "metadata": {
        "id": "05MDzQ032plt"
      },
      "source": [
        "# Pretrained"
      ]
    },
    {
      "cell_type": "code",
      "metadata": {
        "colab": {
          "base_uri": "https://localhost:8080/"
        },
        "id": "Dsuda-pr9F4q",
        "outputId": "1fb44c53-d982-44cc-d106-e70cdff8b5dd"
      },
      "source": [
        "num_classes = 2\n",
        "img_rows, img_cols = 224, 224\n",
        "batch_size = 16\n",
        "\n",
        "\n",
        "#instance of the ImageDataGenerator for the train with instatiated parameters \n",
        "train_datagen = keras.preprocessing.image.ImageDataGenerator(\n",
        "      rescale=1./255,\n",
        "      rotation_range=30,\n",
        "      shear_range=0.3,\n",
        "      zoom_range=0.3,\n",
        "      width_shift_range=0.4,\n",
        "      height_shift_range=0.4,\n",
        "      horizontal_flip=True,\n",
        "      fill_mode='nearest',\n",
        "      validation_split=0.25)\n",
        "\n",
        "#instance of the ImageDataGenerator for the Validation with instatiated parameters  \n",
        "validation_datagen = keras.preprocessing.image.ImageDataGenerator(rescale=1./255)\n",
        "\n",
        "#the main generator \n",
        "train_generator = train_datagen.flow_from_directory(\n",
        "        mypath,\n",
        "        target_size=(img_rows, img_cols),\n",
        "        batch_size=batch_size,\n",
        "        class_mode='binary',\n",
        "        subset='training')\n",
        "#the main generator\n",
        "validation_generator = train_datagen.flow_from_directory(\n",
        "        mypath,\n",
        "        target_size=(img_rows, img_cols),\n",
        "        batch_size=batch_size,\n",
        "        class_mode='binary',\n",
        "        subset='validation')"
      ],
      "execution_count": 53,
      "outputs": [
        {
          "output_type": "stream",
          "name": "stdout",
          "text": [
            "Found 1611 images belonging to 2 classes.\n",
            "Found 537 images belonging to 2 classes.\n"
          ]
        }
      ]
    },
    {
      "cell_type": "code",
      "metadata": {
        "id": "2rPsqJExcSHW"
      },
      "source": [
        "from tensorflow.keras.applications import ResNet50V2"
      ],
      "execution_count": 54,
      "outputs": []
    },
    {
      "cell_type": "code",
      "metadata": {
        "id": "ty-3jGwfcSHZ"
      },
      "source": [
        "pretrained = tf.keras.applications.VGG19(weights = 'imagenet', \n",
        "                 include_top = False, \n",
        "                 input_shape = (224, 224,3))\n",
        "# pretrained = tf.keras.applications.MobileNetV2(input_shape=(224,224,3),\n",
        "#                                                include_top=False,\n",
        "#                                                weights='imagenet')"
      ],
      "execution_count": 55,
      "outputs": []
    },
    {
      "cell_type": "code",
      "metadata": {
        "id": "y1dDCbwycSHd",
        "colab": {
          "base_uri": "https://localhost:8080/"
        },
        "outputId": "22cd0668-56c5-4a61-9482-c863702a6e1c"
      },
      "source": [
        "# Layers are set to trainable as True by default\n",
        "for layer in pretrained.layers:\n",
        "    layer.trainable = False\n",
        "    \n",
        "# Let's print our layers \n",
        "for (i,layer) in enumerate(pretrained.layers):\n",
        "    print(str(i) + \" \"+ layer.__class__.__name__, layer.trainable)"
      ],
      "execution_count": 56,
      "outputs": [
        {
          "output_type": "stream",
          "name": "stdout",
          "text": [
            "0 InputLayer False\n",
            "1 Conv2D False\n",
            "2 Conv2D False\n",
            "3 MaxPooling2D False\n",
            "4 Conv2D False\n",
            "5 Conv2D False\n",
            "6 MaxPooling2D False\n",
            "7 Conv2D False\n",
            "8 Conv2D False\n",
            "9 Conv2D False\n",
            "10 Conv2D False\n",
            "11 MaxPooling2D False\n",
            "12 Conv2D False\n",
            "13 Conv2D False\n",
            "14 Conv2D False\n",
            "15 Conv2D False\n",
            "16 MaxPooling2D False\n",
            "17 Conv2D False\n",
            "18 Conv2D False\n",
            "19 Conv2D False\n",
            "20 Conv2D False\n",
            "21 MaxPooling2D False\n"
          ]
        }
      ]
    },
    {
      "cell_type": "code",
      "metadata": {
        "id": "BHemhsomcSHi"
      },
      "source": [
        "from tensorflow.keras.layers import Dense,Conv2D,MaxPool2D,Dropout,Flatten,GlobalAveragePooling2D\n",
        "def addTopModelResNet50(bottom_model, num_classes):\n",
        "    \"\"\"creates the top or head of the model that will be \n",
        "    placed ontop of the bottom layers\"\"\"\n",
        "\n",
        "    top_model = bottom_model.output\n",
        "    top_model = GlobalAveragePooling2D()(top_model)\n",
        "    top_model = Dense(64,activation='relu')(top_model)\n",
        "    top_model = Dense(1,activation='sigmoid')(top_model)\n",
        "    return top_model"
      ],
      "execution_count": 57,
      "outputs": []
    },
    {
      "cell_type": "code",
      "metadata": {
        "id": "6zXrtXcOcSHo"
      },
      "source": [
        "from tensorflow.keras.layers import BatchNormalization\n",
        "from tensorflow.keras.models import Model\n",
        "\n",
        "FC_Head = addTopModelResNet50(pretrained, num_classes)\n",
        "\n",
        "model = Model(inputs = pretrained.input, outputs = FC_Head)\n",
        "\n",
        "print(model.summary())"
      ],
      "execution_count": null,
      "outputs": []
    },
    {
      "cell_type": "code",
      "metadata": {
        "id": "PKNtMGwv3M7Z"
      },
      "source": [
        "model.compile(loss = 'binary_crossentropy',\n",
        "              # optimizer = Adam(lr=0.001),\n",
        "              optimizer = 'adam',\n",
        "              metrics = ['accuracy'])"
      ],
      "execution_count": 60,
      "outputs": []
    },
    {
      "cell_type": "code",
      "metadata": {
        "colab": {
          "base_uri": "https://localhost:8080/"
        },
        "id": "Hs-8gldE3qFq",
        "outputId": "b8a0f45d-da4c-49aa-a7b7-e95d00cee8c6"
      },
      "source": [
        "result = model.fit_generator(train_generator,epochs=70,callbacks=callbacks,validation_data=validation_generator,steps_per_epoch = nb_train_samples // batch_size,validation_steps= nb_validation_samples // batch_size )"
      ],
      "execution_count": 61,
      "outputs": [
        {
          "output_type": "stream",
          "name": "stderr",
          "text": [
            "/usr/local/lib/python3.7/dist-packages/ipykernel_launcher.py:1: UserWarning: `Model.fit_generator` is deprecated and will be removed in a future version. Please use `Model.fit`, which supports generators.\n",
            "  \"\"\"Entry point for launching an IPython kernel.\n"
          ]
        },
        {
          "output_type": "stream",
          "name": "stdout",
          "text": [
            "Epoch 1/70\n",
            "100/100 [==============================] - ETA: 0s - loss: 0.4676 - accuracy: 0.7925 \n",
            "Epoch 00001: val_loss improved from 0.42526 to 0.38068, saving model to /content/drive/MyDrive/Colab Notebooks/Recruitment Data/model.h5\n",
            "100/100 [==============================] - 1349s 14s/step - loss: 0.4676 - accuracy: 0.7925 - val_loss: 0.3807 - val_accuracy: 0.8144 - lr: 0.0010\n",
            "Epoch 2/70\n",
            "100/100 [==============================] - ETA: 0s - loss: 0.4248 - accuracy: 0.7912 \n",
            "Epoch 00002: val_loss improved from 0.38068 to 0.33554, saving model to /content/drive/MyDrive/Colab Notebooks/Recruitment Data/model.h5\n",
            "100/100 [==============================] - 1355s 14s/step - loss: 0.4248 - accuracy: 0.7912 - val_loss: 0.3355 - val_accuracy: 0.8636 - lr: 0.0010\n",
            "Epoch 3/70\n",
            "100/100 [==============================] - ETA: 0s - loss: 0.4011 - accuracy: 0.8201 \n",
            "Epoch 00003: val_loss did not improve from 0.33554\n",
            "100/100 [==============================] - 1349s 14s/step - loss: 0.4011 - accuracy: 0.8201 - val_loss: 0.3371 - val_accuracy: 0.8845 - lr: 0.0010\n",
            "Epoch 4/70\n",
            "100/100 [==============================] - ETA: 0s - loss: 0.3823 - accuracy: 0.8301 \n",
            "Epoch 00004: val_loss improved from 0.33554 to 0.32645, saving model to /content/drive/MyDrive/Colab Notebooks/Recruitment Data/model.h5\n",
            "100/100 [==============================] - 1350s 14s/step - loss: 0.3823 - accuracy: 0.8301 - val_loss: 0.3264 - val_accuracy: 0.8542 - lr: 0.0010\n",
            "Epoch 5/70\n",
            "100/100 [==============================] - ETA: 0s - loss: 0.3676 - accuracy: 0.8481 \n",
            "Epoch 00005: val_loss did not improve from 0.32645\n",
            "100/100 [==============================] - 1354s 14s/step - loss: 0.3676 - accuracy: 0.8481 - val_loss: 0.3329 - val_accuracy: 0.8466 - lr: 0.0010\n",
            "Epoch 6/70\n",
            "100/100 [==============================] - ETA: 0s - loss: 0.3765 - accuracy: 0.8408 \n",
            "Epoch 00006: val_loss did not improve from 0.32645\n",
            "100/100 [==============================] - 1348s 14s/step - loss: 0.3765 - accuracy: 0.8408 - val_loss: 0.3305 - val_accuracy: 0.8712 - lr: 0.0010\n",
            "Epoch 7/70\n",
            "100/100 [==============================] - ETA: 0s - loss: 0.3748 - accuracy: 0.8483 Restoring model weights from the end of the best epoch: 4.\n",
            "\n",
            "Epoch 00007: val_loss did not improve from 0.32645\n",
            "\n",
            "Epoch 00007: ReduceLROnPlateau reducing learning rate to 0.00020000000949949026.\n",
            "100/100 [==============================] - 1347s 13s/step - loss: 0.3748 - accuracy: 0.8483 - val_loss: 0.3407 - val_accuracy: 0.8902 - lr: 0.0010\n",
            "Epoch 00007: early stopping\n"
          ]
        }
      ]
    },
    {
      "cell_type": "code",
      "metadata": {
        "colab": {
          "base_uri": "https://localhost:8080/",
          "height": 295
        },
        "id": "B-9miiXH_Qki",
        "outputId": "56b1c62d-bbef-4646-82f4-97259aa04907"
      },
      "source": [
        "plt.plot(result.history['accuracy'])\n",
        "plt.plot(result.history['val_accuracy'])\n",
        "plt.title('model accuracy')\n",
        "plt.ylabel('accuracy')\n",
        "plt.xlabel('epoch')\n",
        "plt.legend(['train', 'test'], loc='upper left')\n",
        "plt.show()"
      ],
      "execution_count": 66,
      "outputs": [
        {
          "output_type": "display_data",
          "data": {
            "image/png": "[encoded data removed]",
            "text/plain": [
              "<Figure size 432x288 with 1 Axes>"
            ]
          },
          "metadata": {
            "needs_background": "light"
          }
        }
      ]
    },
    {
      "cell_type": "code",
      "metadata": {
        "colab": {
          "base_uri": "https://localhost:8080/",
          "height": 295
        },
        "id": "jmM9-iaq_RVK",
        "outputId": "7d415387-26e8-4eba-9408-1fe0b82d74f5"
      },
      "source": [
        "plt.plot(result.history['loss'],label='train')\n",
        "plt.plot(result.history['val_loss'],label='val')\n",
        "plt.title('learning curves')\n",
        "plt.ylabel('accuracy')\n",
        "plt.xlabel('epoch')\n",
        "plt.legend(['train', 'test'], loc='upper right')\n",
        "plt.show()"
      ],
      "execution_count": 67,
      "outputs": [
        {
          "output_type": "display_data",
          "data": {
            "image/png": "[encoded data removed]",
            "text/plain": [
              "<Figure size 432x288 with 1 Axes>"
            ]
          },
          "metadata": {
            "needs_background": "light"
          }
        }
      ]
    },
    {
      "cell_type": "code",
      "metadata": {
        "id": "VJVJ3st-_4m8"
      },
      "source": [
        "!pip install jupyterlab-widgets\n",
        "!jupyter labextension install @jupyter-widgets/jupyterlab-manager\n"
      ],
      "execution_count": null,
      "outputs": []
    }
  ]
}